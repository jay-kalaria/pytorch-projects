{
 "cells": [
  {
   "cell_type": "markdown",
   "metadata": {},
   "source": [
    "### 1. Tensor: \n",
    "Fancy word for multi dimensional array(like numpy arrays)"
   ]
  },
  {
   "cell_type": "code",
   "execution_count": 13,
   "metadata": {},
   "outputs": [
    {
     "name": "stdout",
     "output_type": "stream",
     "text": [
      "tensor([[1.0000, 1.5000],\n",
      "        [2.0000, 1.4000],\n",
      "        [3.0000, 1.6000]])\n",
      "tensor([[1.0000, 1.5000],\n",
      "        [2.0000, 1.4000],\n",
      "        [3.0000, 1.6000]])\n",
      "torch.Size([3, 2])\n"
     ]
    }
   ],
   "source": [
    "import torch\n",
    "\n",
    "# 1D tensor -> shape = (3,). Just shows number of elements\n",
    "t_1= torch.tensor([1.0, 2.0, 3.0])\n",
    "print(t)\n",
    "\n",
    "# 2d tensor - > shape = (3,2)\n",
    "t_2= torch.tensor([[1.0, 1.5],[2.0, 1.4],[3.0, 1.6]])\n",
    "print(t_2)\n",
    "print(t_2.shape)\n",
    "\n"
   ]
  },
  {
   "cell_type": "markdown",
   "metadata": {},
   "source": [
    "### 2. Unsqeeze(dim)\n",
    "\n",
    "Add a dimension of size 1 at position you choose"
   ]
  },
  {
   "cell_type": "code",
   "execution_count": 17,
   "metadata": {},
   "outputs": [
    {
     "name": "stdout",
     "output_type": "stream",
     "text": [
      "tensor([1., 2., 3.])\n",
      "tensor([[1., 2., 3.]])\n",
      "torch.Size([1, 3])\n"
     ]
    }
   ],
   "source": [
    "t= torch.tensor([1.0,2.0,3.0])\n",
    "print(t)\n",
    "t_unsq = t.unsqueeze(0)\n",
    "print(t_unsq)\n",
    "print(t_unsq.shape)"
   ]
  },
  {
   "cell_type": "code",
   "execution_count": 20,
   "metadata": {},
   "outputs": [
    {
     "name": "stdout",
     "output_type": "stream",
     "text": [
      "tensor([1., 2., 3.])\n",
      "torch.Size([3])\n",
      "tensor([[1.],\n",
      "        [2.],\n",
      "        [3.]])\n",
      "torch.Size([3, 1])\n"
     ]
    }
   ],
   "source": [
    "t_unsq = t.unsqueeze(1)\n",
    "print(t)\n",
    "print(t.shape)\n",
    "print(t_unsq)\n",
    "print(t_unsq.shape)"
   ]
  },
  {
   "cell_type": "markdown",
   "metadata": {},
   "source": [
    "### 3. Squeeze\n",
    "\n",
    "Remove dimension of size 1. Does not work on shape (2,3)"
   ]
  },
  {
   "cell_type": "code",
   "execution_count": 26,
   "metadata": {},
   "outputs": [
    {
     "name": "stdout",
     "output_type": "stream",
     "text": [
      "torch.Size([3])\n",
      "tensor([1., 2., 3.])\n",
      "torch.Size([3])\n"
     ]
    }
   ],
   "source": [
    "t = torch.tensor([1.0, 2.0, 3.0])\n",
    "print(t.shape)\n",
    "t_sq = t.squeeze()\n",
    "print(t_sq)\n",
    "print(t_sq.shape)"
   ]
  },
  {
   "cell_type": "markdown",
   "metadata": {},
   "source": [
    "## STEP 1: Imports + Device"
   ]
  },
  {
   "cell_type": "code",
   "execution_count": 1,
   "metadata": {},
   "outputs": [],
   "source": [
    "import torch\n",
    "import torch.nn as nn\n",
    "import torch.optim as optim\n",
    "\n",
    "\n",
    "device ='mps' if torch.backends.mps.is_available() else 'cpu'"
   ]
  },
  {
   "cell_type": "markdown",
   "metadata": {},
   "source": [
    "## STEP 2: Fake data"
   ]
  },
  {
   "cell_type": "code",
   "execution_count": 36,
   "metadata": {},
   "outputs": [
    {
     "name": "stdout",
     "output_type": "stream",
     "text": [
      "tensor([[ 2.5182],\n",
      "        [ 2.0107],\n",
      "        [ 1.2149],\n",
      "        [ 1.0136],\n",
      "        [ 1.5833],\n",
      "        [ 2.2809],\n",
      "        [ 2.1865],\n",
      "        [ 2.5739],\n",
      "        [ 2.6438],\n",
      "        [ 2.7088],\n",
      "        [ 3.5842],\n",
      "        [ 3.1924],\n",
      "        [ 3.4499],\n",
      "        [ 3.6137],\n",
      "        [ 3.3067],\n",
      "        [ 3.9198],\n",
      "        [ 4.6308],\n",
      "        [ 4.2309],\n",
      "        [ 5.1374],\n",
      "        [ 5.7726],\n",
      "        [ 4.7959],\n",
      "        [ 4.8146],\n",
      "        [ 5.6505],\n",
      "        [ 6.3311],\n",
      "        [ 5.3602],\n",
      "        [ 6.0432],\n",
      "        [ 5.8671],\n",
      "        [ 6.7816],\n",
      "        [ 6.5179],\n",
      "        [ 6.3874],\n",
      "        [ 7.1585],\n",
      "        [ 6.5137],\n",
      "        [ 6.6137],\n",
      "        [ 8.0821],\n",
      "        [ 8.4032],\n",
      "        [ 7.4443],\n",
      "        [ 8.8161],\n",
      "        [ 9.3193],\n",
      "        [ 9.4355],\n",
      "        [ 8.8951],\n",
      "        [ 9.1477],\n",
      "        [ 8.1202],\n",
      "        [ 9.8996],\n",
      "        [ 9.4462],\n",
      "        [ 9.9629],\n",
      "        [10.1744],\n",
      "        [10.4530],\n",
      "        [10.3045],\n",
      "        [10.3969],\n",
      "        [10.7357],\n",
      "        [10.1376],\n",
      "        [11.2116],\n",
      "        [11.4513],\n",
      "        [11.6419],\n",
      "        [12.7403],\n",
      "        [12.4372],\n",
      "        [12.4442],\n",
      "        [13.4063],\n",
      "        [12.0023],\n",
      "        [12.6904],\n",
      "        [13.2072],\n",
      "        [13.7369],\n",
      "        [13.2661],\n",
      "        [13.7101],\n",
      "        [14.4405],\n",
      "        [13.7763],\n",
      "        [13.9340],\n",
      "        [15.0041],\n",
      "        [15.2058],\n",
      "        [14.7895],\n",
      "        [16.0015],\n",
      "        [15.3811],\n",
      "        [16.0653],\n",
      "        [16.2514],\n",
      "        [16.7096],\n",
      "        [15.8695],\n",
      "        [15.8966],\n",
      "        [16.8830],\n",
      "        [16.2810],\n",
      "        [17.9051],\n",
      "        [17.6490],\n",
      "        [17.2951],\n",
      "        [17.8002],\n",
      "        [17.3840],\n",
      "        [18.3800],\n",
      "        [18.6479],\n",
      "        [18.4734],\n",
      "        [19.9832],\n",
      "        [17.6263],\n",
      "        [18.6231],\n",
      "        [18.3780],\n",
      "        [19.4280],\n",
      "        [19.1844],\n",
      "        [20.0675],\n",
      "        [20.2483],\n",
      "        [20.4290],\n",
      "        [19.9354],\n",
      "        [22.0550],\n",
      "        [20.7010],\n",
      "        [20.9982]], device='mps:0')\n"
     ]
    }
   ],
   "source": [
    "x = torch.linspace(0,10,100).unsqueeze(1).to(device)\n",
    "\n",
    "y= 2*x+1 + torch.randn(x.size()).to(device)*0.5 \n",
    "\n",
    "print(y)\n"
   ]
  },
  {
   "cell_type": "markdown",
   "metadata": {},
   "source": [
    "## STEP 3: Model"
   ]
  },
  {
   "cell_type": "code",
   "execution_count": 32,
   "metadata": {},
   "outputs": [],
   "source": [
    "class LinearModel(nn.Module):\n",
    "  def __init__(self):\n",
    "    super().__init__()\n",
    "    self.linear = nn.Linear(1,1)\n",
    "\n",
    "  def forward(self,x):\n",
    "    return self.linear(x)\n",
    "  \n",
    "model=LinearModel().to(device)\n"
   ]
  },
  {
   "cell_type": "markdown",
   "metadata": {},
   "source": [
    "## STEP 4: Loss + Optimizer"
   ]
  },
  {
   "cell_type": "code",
   "execution_count": 34,
   "metadata": {},
   "outputs": [],
   "source": [
    "loss_fn = nn.MSELoss()\n",
    "optimizer=optim.SGD(model.parameters(), lr=0.01)"
   ]
  },
  {
   "cell_type": "markdown",
   "metadata": {},
   "source": [
    "## STEP 5: Train"
   ]
  },
  {
   "cell_type": "code",
   "execution_count": 37,
   "metadata": {},
   "outputs": [
    {
     "name": "stdout",
     "output_type": "stream",
     "text": [
      "Epoch 0, Loss: 249.3893\n",
      "Epoch 100, Loss: 0.5235\n",
      "Epoch 200, Loss: 0.3654\n",
      "Epoch 300, Loss: 0.3069\n",
      "Epoch 400, Loss: 0.2853\n",
      "Epoch 500, Loss: 0.2774\n",
      "Epoch 600, Loss: 0.2744\n",
      "Epoch 700, Loss: 0.2733\n",
      "Epoch 800, Loss: 0.2729\n",
      "Epoch 900, Loss: 0.2728\n"
     ]
    }
   ],
   "source": [
    "epochs= 1000\n",
    "for epoch in range(epochs):\n",
    "  optimizer.zero_grad() # clears all gradients from previous batch. Needed before backward()\n",
    "  outputs = model(x)\n",
    "  loss= loss_fn(outputs, y)\n",
    "  loss.backward()\n",
    "  optimizer.step()\n",
    "\n",
    "  if epoch % 100==0:\n",
    "    print(f\"Epoch {epoch}, Loss: {loss.item():.4f}\")\n",
    "\n",
    "# torch.no_grad -> when not training, just testing\n",
    "# Training = zero_grad() → forward → loss → backward → step\n",
    "# Evaluation = no_grad() → forward → check results"
   ]
  },
  {
   "cell_type": "markdown",
   "metadata": {},
   "source": [
    "## STEP 6: Check learned parameters"
   ]
  },
  {
   "cell_type": "code",
   "execution_count": 40,
   "metadata": {},
   "outputs": [
    {
     "name": "stdout",
     "output_type": "stream",
     "text": [
      "linear.weight: tensor([[2.0062]], device='mps:0')\n",
      "linear.bias: tensor([1.0383], device='mps:0')\n"
     ]
    }
   ],
   "source": [
    "for name, param in model.named_parameters():\n",
    "  print(f'{name}: {param.data}')"
   ]
  },
  {
   "cell_type": "code",
   "execution_count": null,
   "metadata": {},
   "outputs": [],
   "source": []
  }
 ],
 "metadata": {
  "kernelspec": {
   "display_name": "base",
   "language": "python",
   "name": "python3"
  },
  "language_info": {
   "codemirror_mode": {
    "name": "ipython",
    "version": 3
   },
   "file_extension": ".py",
   "mimetype": "text/x-python",
   "name": "python",
   "nbconvert_exporter": "python",
   "pygments_lexer": "ipython3",
   "version": "3.12.4"
  }
 },
 "nbformat": 4,
 "nbformat_minor": 2
}
